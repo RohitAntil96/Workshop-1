{
  "nbformat": 4,
  "nbformat_minor": 0,
  "metadata": {
    "colab": {
      "provenance": []
    },
    "kernelspec": {
      "name": "python3",
      "display_name": "Python 3"
    },
    "language_info": {
      "name": "python"
    }
  },
  "cells": [
    {
      "cell_type": "markdown",
      "source": [
        "WORKSHOP DAY 1"
      ],
      "metadata": {
        "id": "jAiY-2Y2hg1o"
      }
    },
    {
      "cell_type": "code",
      "source": [
        "print('Hello World')"
      ],
      "metadata": {
        "colab": {
          "base_uri": "https://localhost:8080/"
        },
        "id": "A_s_yEvfjMkT",
        "outputId": "2e6d6e6d-a6b5-4c0d-a20f-b2efb0042fa0"
      },
      "execution_count": null,
      "outputs": [
        {
          "output_type": "stream",
          "name": "stdout",
          "text": [
            "Hello World\n"
          ]
        }
      ]
    },
    {
      "cell_type": "code",
      "source": [
        "a=2"
      ],
      "metadata": {
        "id": "hie_ksUUjM_K"
      },
      "execution_count": 1,
      "outputs": []
    },
    {
      "cell_type": "code",
      "source": [
        "print(a)"
      ],
      "metadata": {
        "id": "Xc5IfvNZjNDh",
        "colab": {
          "base_uri": "https://localhost:8080/"
        },
        "outputId": "58d73942-5216-4a19-f7c6-8e246c633735"
      },
      "execution_count": 2,
      "outputs": [
        {
          "output_type": "stream",
          "name": "stdout",
          "text": [
            "2\n"
          ]
        }
      ]
    },
    {
      "cell_type": "code",
      "source": [
        "print(type(a))"
      ],
      "metadata": {
        "colab": {
          "base_uri": "https://localhost:8080/"
        },
        "id": "OWLaCaP0txDI",
        "outputId": "fc93833c-2673-49eb-bb7c-49f066a04288"
      },
      "execution_count": 3,
      "outputs": [
        {
          "output_type": "stream",
          "name": "stdout",
          "text": [
            "<class 'int'>\n"
          ]
        }
      ]
    },
    {
      "cell_type": "code",
      "source": [
        "name='Rohit'"
      ],
      "metadata": {
        "id": "Q1ZY5p13t0Fw"
      },
      "execution_count": 4,
      "outputs": []
    },
    {
      "cell_type": "code",
      "source": [
        "print(name)"
      ],
      "metadata": {
        "colab": {
          "base_uri": "https://localhost:8080/"
        },
        "id": "iF9xb-Uft4tQ",
        "outputId": "517fdb46-927c-4437-f4c6-4a1e270455ba"
      },
      "execution_count": 5,
      "outputs": [
        {
          "output_type": "stream",
          "name": "stdout",
          "text": [
            "Rohit\n"
          ]
        }
      ]
    },
    {
      "cell_type": "code",
      "source": [
        "print(type(name))"
      ],
      "metadata": {
        "colab": {
          "base_uri": "https://localhost:8080/"
        },
        "id": "56enABG2t6eI",
        "outputId": "c8ed2efd-b931-45d7-985e-64b463e45351"
      },
      "execution_count": 6,
      "outputs": [
        {
          "output_type": "stream",
          "name": "stdout",
          "text": [
            "<class 'str'>\n"
          ]
        }
      ]
    },
    {
      "cell_type": "code",
      "source": [
        "name= 'Aayat'\n",
        "age= 18"
      ],
      "metadata": {
        "id": "OE9C2FWbt9gX"
      },
      "execution_count": 7,
      "outputs": []
    },
    {
      "cell_type": "code",
      "source": [
        "print(name,age)"
      ],
      "metadata": {
        "colab": {
          "base_uri": "https://localhost:8080/"
        },
        "id": "ukZmUiK0vCW6",
        "outputId": "f8a31156-8f9e-4a52-8097-261a15c091e5"
      },
      "execution_count": 8,
      "outputs": [
        {
          "output_type": "stream",
          "name": "stdout",
          "text": [
            "Aayat 18\n"
          ]
        }
      ]
    },
    {
      "cell_type": "code",
      "source": [
        "name='Kian'\n",
        "age= 20"
      ],
      "metadata": {
        "id": "hFHoodyXvEMS"
      },
      "execution_count": 9,
      "outputs": []
    },
    {
      "cell_type": "code",
      "source": [
        "# here name and age value change\n",
        "print(name,age)"
      ],
      "metadata": {
        "colab": {
          "base_uri": "https://localhost:8080/"
        },
        "id": "gzrnjZHivTv5",
        "outputId": "c1d1d188-2ba5-4990-ec68-b54f92b19533"
      },
      "execution_count": 10,
      "outputs": [
        {
          "output_type": "stream",
          "name": "stdout",
          "text": [
            "Kian 20\n"
          ]
        }
      ]
    },
    {
      "cell_type": "code",
      "source": [
        "if age > 18:\n",
        "  print('you are eligible for vote')\n",
        "\n",
        "else:\n",
        "    print(\"Your are not eligible yet\")"
      ],
      "metadata": {
        "colab": {
          "base_uri": "https://localhost:8080/"
        },
        "id": "PVXAumlyvZWx",
        "outputId": "e84467b9-fb90-4864-f0b3-80efb39a3b7a"
      },
      "execution_count": 12,
      "outputs": [
        {
          "output_type": "stream",
          "name": "stdout",
          "text": [
            "you are eligible for vote\n"
          ]
        }
      ]
    },
    {
      "cell_type": "code",
      "source": [
        "for i in range(5):\n",
        " print(i)"
      ],
      "metadata": {
        "colab": {
          "base_uri": "https://localhost:8080/"
        },
        "id": "xjQHOCWOxMHW",
        "outputId": "05216e83-9df2-4cf4-c1f5-e637e1e27daf"
      },
      "execution_count": 13,
      "outputs": [
        {
          "output_type": "stream",
          "name": "stdout",
          "text": [
            "0\n",
            "1\n",
            "2\n",
            "3\n",
            "4\n"
          ]
        }
      ]
    }
  ]
}
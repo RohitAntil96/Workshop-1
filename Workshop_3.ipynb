{
  "nbformat": 4,
  "nbformat_minor": 0,
  "metadata": {
    "colab": {
      "provenance": []
    },
    "kernelspec": {
      "name": "python3",
      "display_name": "Python 3"
    },
    "language_info": {
      "name": "python"
    }
  },
  "cells": [
    {
      "cell_type": "code",
      "execution_count": null,
      "metadata": {
        "colab": {
          "base_uri": "https://localhost:8080/"
        },
        "id": "LzmRzrej4r82",
        "outputId": "07fdd119-2d5c-4d0e-b823-c3597d1cdcc2"
      },
      "outputs": [
        {
          "output_type": "stream",
          "name": "stdout",
          "text": [
            "<class 'list'>\n"
          ]
        }
      ],
      "source": [
        "print(type([]))"
      ]
    },
    {
      "cell_type": "code",
      "source": [
        "class sample:\n",
        "  pass"
      ],
      "metadata": {
        "id": "s3tN_rpi61d7"
      },
      "execution_count": null,
      "outputs": []
    },
    {
      "cell_type": "code",
      "source": [
        "x= sample()"
      ],
      "metadata": {
        "id": "ZSp0lhLS6_oo"
      },
      "execution_count": null,
      "outputs": []
    },
    {
      "cell_type": "code",
      "source": [
        "print(type(x))"
      ],
      "metadata": {
        "colab": {
          "base_uri": "https://localhost:8080/"
        },
        "id": "pr1w0vJF7DSQ",
        "outputId": "8b5f4b19-dcb1-444e-8da5-d69037d83f5d"
      },
      "execution_count": null,
      "outputs": [
        {
          "output_type": "stream",
          "name": "stdout",
          "text": [
            "<class '__main__.sample'>\n"
          ]
        }
      ]
    },
    {
      "cell_type": "code",
      "source": [
        "class Dog:\n",
        "  def __init__(self,breed):\n",
        "    self.breed= breed"
      ],
      "metadata": {
        "id": "JhhV6Hkm7E6A"
      },
      "execution_count": null,
      "outputs": []
    },
    {
      "cell_type": "code",
      "source": [
        "tommy= Dog(breed='Rotewiller')\n",
        "Bujo= Dog(breed='Pitbull')"
      ],
      "metadata": {
        "id": "H6ZHfw6A8Llg"
      },
      "execution_count": null,
      "outputs": []
    },
    {
      "cell_type": "code",
      "source": [
        "tommy.breed"
      ],
      "metadata": {
        "colab": {
          "base_uri": "https://localhost:8080/",
          "height": 35
        },
        "id": "_oaICuPD82ZG",
        "outputId": "ccead081-7383-4895-dea5-3652a5d7b661"
      },
      "execution_count": null,
      "outputs": [
        {
          "output_type": "execute_result",
          "data": {
            "text/plain": [
              "'Rotewiller'"
            ],
            "application/vnd.google.colaboratory.intrinsic+json": {
              "type": "string"
            }
          },
          "metadata": {},
          "execution_count": 8
        }
      ]
    },
    {
      "cell_type": "code",
      "source": [
        "Bujo.breed"
      ],
      "metadata": {
        "colab": {
          "base_uri": "https://localhost:8080/",
          "height": 35
        },
        "id": "mEzJseRG9VY1",
        "outputId": "8176633e-2336-4011-b925-dfcd78de3f65"
      },
      "execution_count": null,
      "outputs": [
        {
          "output_type": "execute_result",
          "data": {
            "text/plain": [
              "'Pitbull'"
            ],
            "application/vnd.google.colaboratory.intrinsic+json": {
              "type": "string"
            }
          },
          "metadata": {},
          "execution_count": 9
        }
      ]
    },
    {
      "cell_type": "code",
      "source": [
        "class Dog:\n",
        "  species= 'Mammal'\n",
        "  def __init__(self,breed, name):\n",
        "    self.breed= breed\n",
        "    self.name= name"
      ],
      "metadata": {
        "id": "MVHysCB29XOU"
      },
      "execution_count": null,
      "outputs": []
    },
    {
      "cell_type": "code",
      "source": [
        "my_dog= Dog('Lab','Jerry')"
      ],
      "metadata": {
        "id": "8JjlqmvD-UVz"
      },
      "execution_count": null,
      "outputs": []
    },
    {
      "cell_type": "code",
      "source": [
        "my_dog.name"
      ],
      "metadata": {
        "colab": {
          "base_uri": "https://localhost:8080/",
          "height": 35
        },
        "id": "CbNbOG_V-aPL",
        "outputId": "f789af15-8cd0-4c76-99f7-097392312c91"
      },
      "execution_count": null,
      "outputs": [
        {
          "output_type": "execute_result",
          "data": {
            "text/plain": [
              "'Jerry'"
            ],
            "application/vnd.google.colaboratory.intrinsic+json": {
              "type": "string"
            }
          },
          "metadata": {},
          "execution_count": 17
        }
      ]
    },
    {
      "cell_type": "code",
      "source": [
        "my_dog.species"
      ],
      "metadata": {
        "colab": {
          "base_uri": "https://localhost:8080/",
          "height": 35
        },
        "id": "wCYnlgeD-crT",
        "outputId": "6f910de3-cabf-4c93-8443-50bb3b871690"
      },
      "execution_count": null,
      "outputs": [
        {
          "output_type": "execute_result",
          "data": {
            "text/plain": [
              "'Mammal'"
            ],
            "application/vnd.google.colaboratory.intrinsic+json": {
              "type": "string"
            }
          },
          "metadata": {},
          "execution_count": 18
        }
      ]
    },
    {
      "cell_type": "code",
      "source": [
        "class circle:\n",
        "  pi = 3.14\n",
        "  def __init__(self, radius=1):\n",
        "    self.radius = radius\n",
        "    self.area = radius * radius * circle.pi\n",
        "\n",
        "  def setRadius(self,new_radius):\n",
        "    self.radius = new_radius\n",
        "    self.area = new_radius * new_radius * self.pi\n",
        "\n",
        "  def getcircumference(self):\n",
        "    return self.radius * self.pi * 2"
      ],
      "metadata": {
        "id": "MrrC5bw4-r-0"
      },
      "execution_count": null,
      "outputs": []
    },
    {
      "cell_type": "code",
      "source": [
        "c1 = circle()\n",
        "print('The Radius is: ', c1.radius)\n",
        "print('The Area is: ', c1.area)\n",
        "print('The Circumference is: ', c1.getcircumference())"
      ],
      "metadata": {
        "colab": {
          "base_uri": "https://localhost:8080/"
        },
        "id": "O_s3UT_TB2KF",
        "outputId": "25941c0b-bf64-408a-8658-877eb7a7faa4"
      },
      "execution_count": null,
      "outputs": [
        {
          "output_type": "stream",
          "name": "stdout",
          "text": [
            "The Radius is:  1\n",
            "The Area is:  3.14\n",
            "The Circumference is:  6.28\n"
          ]
        }
      ]
    },
    {
      "cell_type": "code",
      "source": [
        "c1.setRadius(4)\n",
        "print('The Radius is: ', c1.radius)\n",
        "print('The Area is: ', c1.area)\n",
        "print('The Circumference is: ', c1.getcircumference())"
      ],
      "metadata": {
        "colab": {
          "base_uri": "https://localhost:8080/"
        },
        "id": "UFIXa8L_B3qU",
        "outputId": "79919b27-25bc-48bb-bd97-d78806252dd5"
      },
      "execution_count": null,
      "outputs": [
        {
          "output_type": "stream",
          "name": "stdout",
          "text": [
            "The Radius is:  4\n",
            "The Area is:  50.24\n",
            "The Circumference is:  25.12\n"
          ]
        }
      ]
    },
    {
      "cell_type": "code",
      "source": [
        "class track:\n",
        "  def __init__(self, coor1,coor2):\n",
        "    self.coor1 = coor1\n",
        "    self.coor2 = coor2\n",
        "\n",
        "\n",
        "  def distance(self):\n",
        "    x1,y1 = self.coor1\n",
        "    x2,y2 = self.coor2\n",
        "    return ((x2 - x1)**2 + (y2 - y1)**2)**0.5\n",
        "\n",
        "\n",
        "  def slope(self):\n",
        "    x1,y1 = self.coor1\n",
        "    x2,y2 = self.coor2\n",
        "    return (y2 - y1)/(x2 - x1)"
      ],
      "metadata": {
        "id": "QNYvQ937CHJt"
      },
      "execution_count": null,
      "outputs": []
    },
    {
      "cell_type": "code",
      "source": [
        "c1 = (12,9)\n",
        "c2 = (3,8)"
      ],
      "metadata": {
        "id": "8TEgWxNqFNxv"
      },
      "execution_count": null,
      "outputs": []
    },
    {
      "cell_type": "code",
      "source": [
        "find= track(c1,c2)"
      ],
      "metadata": {
        "id": "ARdFErE1Fbkn"
      },
      "execution_count": null,
      "outputs": []
    },
    {
      "cell_type": "code",
      "source": [
        "find.distance()"
      ],
      "metadata": {
        "colab": {
          "base_uri": "https://localhost:8080/"
        },
        "id": "_oL0UmdVFf82",
        "outputId": "87e10922-bf77-4cfa-fba8-baa8d059949d"
      },
      "execution_count": null,
      "outputs": [
        {
          "output_type": "execute_result",
          "data": {
            "text/plain": [
              "9.055385138137417"
            ]
          },
          "metadata": {},
          "execution_count": 25
        }
      ]
    },
    {
      "cell_type": "code",
      "source": [
        "find.slope()"
      ],
      "metadata": {
        "colab": {
          "base_uri": "https://localhost:8080/"
        },
        "id": "RPYCR-WXFmiW",
        "outputId": "390f9998-c3bb-4b86-fc82-3e636150deb1"
      },
      "execution_count": null,
      "outputs": [
        {
          "output_type": "execute_result",
          "data": {
            "text/plain": [
              "0.1111111111111111"
            ]
          },
          "metadata": {},
          "execution_count": 26
        }
      ]
    },
    {
      "cell_type": "code",
      "source": [
        "class Account:\n",
        "  def __init__(self,owner,balance=0):\n",
        "    self.owner = owner\n",
        "    self.balance = balance\n",
        "\n",
        "\n",
        "  def __str__(self):\n",
        "    return f'Account Owner:         {self.owner}\\nAccount balance:       ${self.balance}'\n",
        "\n",
        "\n",
        "  def deposit(self,dep_amt):\n",
        "    self.balance += dep_amt\n",
        "    print(\"Deposit Accepted\")\n",
        "\n",
        "\n",
        "  def withdraw(self,wd_amt):\n",
        "    if self.balance>= wd_amt:\n",
        "      self.balance -= wd_amt\n",
        "      print(\"Withdraw Accepted\")\n",
        "\n",
        "    else:\n",
        "      print(\"Funds Unavailable\")"
      ],
      "metadata": {
        "id": "7i_pW4lAFoPV"
      },
      "execution_count": null,
      "outputs": []
    },
    {
      "cell_type": "code",
      "source": [
        "acc1= Account('Rohit', 1200000)"
      ],
      "metadata": {
        "id": "DegY0ftTMSEO"
      },
      "execution_count": null,
      "outputs": []
    },
    {
      "cell_type": "code",
      "source": [
        "print(acc1)"
      ],
      "metadata": {
        "colab": {
          "base_uri": "https://localhost:8080/"
        },
        "id": "DnLQXi0dMw4I",
        "outputId": "083f3d9b-ee95-45ce-bbfc-24217d53d9bb"
      },
      "execution_count": null,
      "outputs": [
        {
          "output_type": "stream",
          "name": "stdout",
          "text": [
            "Account Owner:         Rohit\n",
            "Account balance:       $1200000\n"
          ]
        }
      ]
    },
    {
      "cell_type": "code",
      "source": [
        "acc1.owner"
      ],
      "metadata": {
        "colab": {
          "base_uri": "https://localhost:8080/",
          "height": 35
        },
        "id": "k4buRKMJM1a4",
        "outputId": "1f593b76-5a93-46b2-edf1-956fc5417772"
      },
      "execution_count": null,
      "outputs": [
        {
          "output_type": "execute_result",
          "data": {
            "text/plain": [
              "'Rohit'"
            ],
            "application/vnd.google.colaboratory.intrinsic+json": {
              "type": "string"
            }
          },
          "metadata": {},
          "execution_count": 30
        }
      ]
    },
    {
      "cell_type": "code",
      "source": [
        "acc1.balance"
      ],
      "metadata": {
        "colab": {
          "base_uri": "https://localhost:8080/"
        },
        "id": "t64jQzdQM34x",
        "outputId": "9a990267-de9b-4a5e-e4a7-dba334aa541c"
      },
      "execution_count": null,
      "outputs": [
        {
          "output_type": "execute_result",
          "data": {
            "text/plain": [
              "1200000"
            ]
          },
          "metadata": {},
          "execution_count": 31
        }
      ]
    },
    {
      "cell_type": "code",
      "source": [
        "acc1.deposit(900000)"
      ],
      "metadata": {
        "colab": {
          "base_uri": "https://localhost:8080/"
        },
        "id": "xCO51bJRM7h4",
        "outputId": "da7aaa15-1093-41b6-a4a9-134b525c119c"
      },
      "execution_count": null,
      "outputs": [
        {
          "output_type": "stream",
          "name": "stdout",
          "text": [
            "Deposit Accepted\n"
          ]
        }
      ]
    },
    {
      "cell_type": "code",
      "source": [
        "acc1.balance"
      ],
      "metadata": {
        "colab": {
          "base_uri": "https://localhost:8080/"
        },
        "id": "VQXzWOUuNBPo",
        "outputId": "264b7246-948b-4b3c-bb22-e246fd246566"
      },
      "execution_count": null,
      "outputs": [
        {
          "output_type": "execute_result",
          "data": {
            "text/plain": [
              "2100000"
            ]
          },
          "metadata": {},
          "execution_count": 33
        }
      ]
    },
    {
      "cell_type": "code",
      "source": [
        "acc1.withdraw(170000)"
      ],
      "metadata": {
        "colab": {
          "base_uri": "https://localhost:8080/"
        },
        "id": "t75-WiglND84",
        "outputId": "d489aec4-1089-48d3-bd83-6bd20219c539"
      },
      "execution_count": null,
      "outputs": [
        {
          "output_type": "stream",
          "name": "stdout",
          "text": [
            "Withdraw Accepted\n"
          ]
        }
      ]
    },
    {
      "cell_type": "code",
      "source": [
        "acc1.balance"
      ],
      "metadata": {
        "colab": {
          "base_uri": "https://localhost:8080/"
        },
        "id": "GNgGDA2wNLbw",
        "outputId": "ba282fb8-7c8b-4196-f58b-0d4a81d13f25"
      },
      "execution_count": null,
      "outputs": [
        {
          "output_type": "execute_result",
          "data": {
            "text/plain": [
              "1930000"
            ]
          },
          "metadata": {},
          "execution_count": 37
        }
      ]
    },
    {
      "cell_type": "code",
      "source": [
        "acc1.withdraw(99999999)"
      ],
      "metadata": {
        "colab": {
          "base_uri": "https://localhost:8080/"
        },
        "id": "OpUoRTBENXcf",
        "outputId": "2cf5822e-349e-425d-8afb-eed54d5e2a3d"
      },
      "execution_count": null,
      "outputs": [
        {
          "output_type": "stream",
          "name": "stdout",
          "text": [
            "Funds Unavailable\n"
          ]
        }
      ]
    },
    {
      "cell_type": "code",
      "source": [],
      "metadata": {
        "id": "A7FDaXwrNiO4"
      },
      "execution_count": null,
      "outputs": []
    }
  ]
}